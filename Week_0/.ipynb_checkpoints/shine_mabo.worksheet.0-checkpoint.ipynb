{
 "cells": [
  {
   "cell_type": "code",
   "execution_count": null,
   "id": "53967153-9f11-411d-ba3b-623db4751619",
   "metadata": {},
   "outputs": [],
   "source": [
    "Shine Mabo worksheet 0"
   ]
  },
  {
   "cell_type": "code",
   "execution_count": null,
   "id": "e17e490d-fec2-4172-9528-226f132aeb82",
   "metadata": {},
   "outputs": [],
   "source": [
    "Task One"
   ]
  },
  {
   "cell_type": "code",
   "execution_count": 8,
   "id": "537e5fae-4828-49fb-9cdf-71014493172c",
   "metadata": {},
   "outputs": [
    {
     "name": "stdout",
     "output_type": "stream",
     "text": [
      "Choose conversion type: 1. Length  2. Weight  3. Volume\n"
     ]
    },
    {
     "name": "stdin",
     "output_type": "stream",
     "text": [
      "Enter choice (1/2/3):  2\n",
      "Convert from (kg/lbs):  kg\n",
      "Enter value:  60\n"
     ]
    },
    {
     "name": "stdout",
     "output_type": "stream",
     "text": [
      "Converted value: 132.28 lbs\n"
     ]
    }
   ],
   "source": [
    "def convert_length(value, unit):\n",
    "    if unit == 'm':\n",
    "        return value * 3.28084  # meters to feet\n",
    "    elif unit == 'ft':\n",
    "        return value / 3.28084  # feet to meters\n",
    "    else:\n",
    "        raise ValueError(\"Invalid length unit. Use 'm' or 'ft'\")\n",
    "\n",
    "def convert_weight(value, unit):\n",
    "    if unit == 'kg':\n",
    "        return value * 2.20462  # kg to lbs\n",
    "    elif unit == 'lbs':\n",
    "        return value / 2.20462  # lbs to kg\n",
    "    else:\n",
    "        raise ValueError(\"Invalid weight unit. Use 'kg' or 'lbs'\")\n",
    "\n",
    "def convert_volume(value, unit):\n",
    "    if unit.lower() == 'l':\n",
    "        return value * 0.264172  # liters to gallons\n",
    "    elif unit.lower() == 'gal':\n",
    "        return value / 0.264172  # gallons to liters\n",
    "    else:\n",
    "        raise ValueError(\"Invalid volume unit. Use 'L' or 'gal'\")\n",
    "\n",
    "def main():\n",
    "    try:\n",
    "        print(\"Choose conversion type: 1. Length  2. Weight  3. Volume\")\n",
    "        choice = input(\"Enter choice (1/2/3): \").strip()\n",
    "        \n",
    "        if choice == '1':\n",
    "            unit = input(\"Convert from (m/ft): \").strip()\n",
    "            value = float(input(\"Enter value: \"))\n",
    "            result = convert_length(value, unit)\n",
    "            print(f\"Converted value: {result:.2f} {'ft' if unit == 'm' else 'm'}\")\n",
    "        elif choice == '2':\n",
    "            unit = input(\"Convert from (kg/lbs): \").strip()\n",
    "            value = float(input(\"Enter value: \"))\n",
    "            result = convert_weight(value, unit)\n",
    "            print(f\"Converted value: {result:.2f} {'lbs' if unit == 'kg' else 'kg'}\")\n",
    "        elif choice == '3':\n",
    "            unit = input(\"Convert from (L/gal): \").strip()\n",
    "            value = float(input(\"Enter value: \"))\n",
    "            result = convert_volume(value, unit)\n",
    "            print(f\"Converted value: {result:.2f} {'gal' if unit.lower() == 'l' else 'L'}\")\n",
    "        else:\n",
    "            print(\"Invalid choice. Please enter 1, 2, or 3.\")\n",
    "    except ValueError as e:\n",
    "        print(f\"Error: {e}\")\n",
    "\n",
    "if __name__ == \"__main__\":\n",
    "    main()"
   ]
  },
  {
   "cell_type": "code",
   "execution_count": null,
   "id": "492b2722-b7f5-433f-9cbc-ae72676dcce6",
   "metadata": {},
   "outputs": [],
   "source": [
    "Task 2"
   ]
  },
  {
   "cell_type": "code",
   "execution_count": 2,
   "id": "89e7bfa0-52cf-419e-9307-c4785ad90d80",
   "metadata": {},
   "outputs": [
    {
     "name": "stdout",
     "output_type": "stream",
     "text": [
      "Choose an operation: 1. Sum  2. Average  3. Maximum  4. Minimum\n"
     ]
    },
    {
     "name": "stdin",
     "output_type": "stream",
     "text": [
      "Enter choice (1/2/3/4):  4\n",
      "Enter numbers separated by spaces:  1 34 20 10\n"
     ]
    },
    {
     "name": "stdout",
     "output_type": "stream",
     "text": [
      "Minimum: 1.0\n"
     ]
    }
   ],
   "source": [
    "def calculate_sum(numbers):\n",
    "    return sum(numbers)\n",
    "\n",
    "def calculate_average(numbers):\n",
    "\n",
    "    return sum(numbers) / len(numbers) if numbers else 0\n",
    "\n",
    "def find_maximum(numbers):\n",
    "    \n",
    "    return max(numbers)\n",
    "\n",
    "def find_minimum(numbers):\n",
    "\n",
    "    return min(numbers)\n",
    "\n",
    "def main():\n",
    "    try:\n",
    "        print(\"Choose an operation: 1. Sum  2. Average  3. Maximum  4. Minimum\")\n",
    "        choice = input(\"Enter choice (1/2/3/4): \")\n",
    "        \n",
    "        numbers = list(map(float, input(\"Enter numbers separated by spaces: \").split()))\n",
    "        \n",
    "        if not numbers:\n",
    "            raise ValueError(\"List cannot be empty.\")\n",
    "        \n",
    "        if choice == '1':\n",
    "            print(f\"Sum: {calculate_sum(numbers)}\")\n",
    "        elif choice == '2':\n",
    "            print(f\"Average: {calculate_average(numbers):.2f}\")\n",
    "        elif choice == '3':\n",
    "            print(f\"Maximum: {find_maximum(numbers)}\")\n",
    "        elif choice == '4':\n",
    "            print(f\"Minimum: {find_minimum(numbers)}\")\n",
    "        else:\n",
    "            print(\"Invalid choice. Please enter 1, 2, 3, or 4.\")\n",
    "    except ValueError as e:\n",
    "        print(f\"Error: {e}. Please enter valid numeric values.\")\n",
    "\n",
    "if __name__ == \"__main__\":\n",
    "    main()\n"
   ]
  },
  {
   "cell_type": "code",
   "execution_count": null,
   "id": "363fdcca-4243-43e4-96dd-983a7ce79e88",
   "metadata": {},
   "outputs": [],
   "source": []
  },
  {
   "cell_type": "code",
   "execution_count": null,
   "id": "642074c5-cf6a-41e0-936f-44c954d84789",
   "metadata": {},
   "outputs": [],
   "source": [
    "4.2 1) \n"
   ]
  },
  {
   "cell_type": "code",
   "execution_count": 6,
   "id": "89664aeb-2247-4ac2-a140-6502cfbb2db8",
   "metadata": {},
   "outputs": [
    {
     "name": "stdout",
     "output_type": "stream",
     "text": [
      "[1, 3, 5]\n"
     ]
    }
   ],
   "source": [
    "def extract_every_other(lst):\n",
    "    return lst[::2]\n",
    "\n",
    "print(extract_every_other([1, 2, 3, 4, 5, 6])) "
   ]
  },
  {
   "cell_type": "code",
   "execution_count": null,
   "id": "a983f1fb-bfcc-4c37-8c91-e0894729f628",
   "metadata": {},
   "outputs": [],
   "source": [
    "4.2 2)\n"
   ]
  },
  {
   "cell_type": "code",
   "execution_count": 9,
   "id": "48bae5b4-818d-4b06-b157-c4fd8d427180",
   "metadata": {},
   "outputs": [
    {
     "name": "stdout",
     "output_type": "stream",
     "text": [
      "[3, 4, 5]\n"
     ]
    }
   ],
   "source": [
    "def get_sublist(lst, start, end):\n",
    "    return lst[start:end+1]\n",
    "\n",
    "print(get_sublist([1, 2, 3, 4, 5, 6], 2, 4))  "
   ]
  },
  {
   "cell_type": "code",
   "execution_count": null,
   "id": "4a88710e-6e0d-420f-bbd4-3caf6ed12960",
   "metadata": {},
   "outputs": [],
   "source": [
    "4.2 3)"
   ]
  },
  {
   "cell_type": "code",
   "execution_count": 11,
   "id": "39e69517-5101-4b0c-bc11-bcd2f84f6072",
   "metadata": {},
   "outputs": [
    {
     "name": "stdout",
     "output_type": "stream",
     "text": [
      "[5, 4, 3, 2, 1]\n"
     ]
    }
   ],
   "source": [
    "def reverse_list(lst):\n",
    "    return lst[::-1]\n",
    "\n",
    "print(reverse_list([1, 2, 3, 4, 5]))  "
   ]
  },
  {
   "cell_type": "code",
   "execution_count": null,
   "id": "8e012715-54bb-41b2-b473-b8a4af227077",
   "metadata": {},
   "outputs": [],
   "source": [
    "4.2 4)"
   ]
  },
  {
   "cell_type": "code",
   "execution_count": 13,
   "id": "1a07e06e-5647-4efa-a05a-de8d76756cdd",
   "metadata": {},
   "outputs": [
    {
     "name": "stdout",
     "output_type": "stream",
     "text": [
      "[2, 3, 4]\n"
     ]
    }
   ],
   "source": [
    "def remove_first_last(lst):\n",
    "    return lst[1:-1]\n",
    "\n",
    "print(remove_first_last([1, 2, 3, 4, 5])) "
   ]
  },
  {
   "cell_type": "code",
   "execution_count": null,
   "id": "335d3cd9-0a65-46db-9e22-df9599f47703",
   "metadata": {},
   "outputs": [],
   "source": [
    "4.2 5)"
   ]
  },
  {
   "cell_type": "code",
   "execution_count": 17,
   "id": "792d593c-0992-45f8-b24d-de6b6329e718",
   "metadata": {},
   "outputs": [
    {
     "name": "stdout",
     "output_type": "stream",
     "text": [
      "[1, 2, 3]\n"
     ]
    }
   ],
   "source": [
    "def get_first_n(lst, n):\n",
    "    if not isinstance(lst, list):\n",
    "        raise TypeError(\"Input must be a list.\")\n",
    "    if not isinstance(n, int):\n",
    "        raise TypeError(\"n must be an integer.\")\n",
    "    if n < 0:\n",
    "        raise ValueError(\"n must be a non-negative integer.\")\n",
    "    \n",
    "    return lst[:n]\n",
    "\n",
    "if __name__ == \"__main__\":\n",
    "    sample_list = [1, 2, 3, 4, 5]\n",
    "    n = 3\n",
    "    print(get_first_n(sample_list, n)) "
   ]
  },
  {
   "cell_type": "code",
   "execution_count": null,
   "id": "ee8d6802-de8e-47bc-90fe-64838e8a7897",
   "metadata": {},
   "outputs": [],
   "source": [
    "4.2 6)"
   ]
  },
  {
   "cell_type": "code",
   "execution_count": 19,
   "id": "fd568685-3c48-4aa4-a208-312729fb33f3",
   "metadata": {},
   "outputs": [
    {
     "name": "stdout",
     "output_type": "stream",
     "text": [
      "[4, 5]\n"
     ]
    }
   ],
   "source": [
    "def get_last_n(lst, n):\n",
    "    if not isinstance(n, int):\n",
    "        raise TypeError(\"n must be an integer\")\n",
    "    if n < 0:\n",
    "        raise ValueError(\"n cannot be negative\")\n",
    "    if n > len(lst):\n",
    "        raise ValueError(\"n exceeds list length\")\n",
    "    return lst[-n:] if n != 0 else []\n",
    "\n",
    "print(get_last_n([1, 2, 3, 4, 5], 2))  \n",
    "    "
   ]
  },
  {
   "cell_type": "code",
   "execution_count": null,
   "id": "68530e6b-72ff-49a2-995f-1827df32062d",
   "metadata": {},
   "outputs": [],
   "source": [
    "4.2 7)"
   ]
  },
  {
   "cell_type": "code",
   "execution_count": 20,
   "id": "22597f15-73ab-4c0e-a076-facb744c1bc6",
   "metadata": {},
   "outputs": [
    {
     "name": "stdout",
     "output_type": "stream",
     "text": [
      "[5, 3, 1]\n"
     ]
    }
   ],
   "source": [
    "def reverse_skip(lst):\n",
    "    return lst[-2::-2]\n",
    "\n",
    "print(reverse_skip([1, 2, 3, 4, 5, 6]))  "
   ]
  },
  {
   "cell_type": "code",
   "execution_count": null,
   "id": "092d6d9f-4bcc-426f-b060-74629b7674e9",
   "metadata": {},
   "outputs": [],
   "source": []
  },
  {
   "cell_type": "code",
   "execution_count": null,
   "id": "3ba6bdfb-bb5d-4fb2-9194-18cc10238e2d",
   "metadata": {},
   "outputs": [],
   "source": [
    "4.3 1)"
   ]
  },
  {
   "cell_type": "code",
   "execution_count": 21,
   "id": "9aecb7dd-056a-4270-b014-0e6807f6f447",
   "metadata": {},
   "outputs": [
    {
     "name": "stdout",
     "output_type": "stream",
     "text": [
      "[1, 2, 3, 4, 5]\n"
     ]
    }
   ],
   "source": [
    "def flatten(lst):\n",
    "    return [item for sublist in lst for item in sublist]\n",
    "\n",
    "print(flatten([[1, 2], [3, 4], [5]])) "
   ]
  },
  {
   "cell_type": "code",
   "execution_count": null,
   "id": "7d6d6c7f-b920-42fc-9390-3dd75a6a28b3",
   "metadata": {},
   "outputs": [],
   "source": [
    "4.3 2)"
   ]
  },
  {
   "cell_type": "code",
   "execution_count": 23,
   "id": "18dc1663-47f2-4ee9-a8f9-a8df62a938c6",
   "metadata": {},
   "outputs": [
    {
     "name": "stdout",
     "output_type": "stream",
     "text": [
      "6\n"
     ]
    }
   ],
   "source": [
    "def access_nested_element(lst, indices):\n",
    "\n",
    "    result = lst\n",
    "    for index in indices:\n",
    "        result = result[index]\n",
    "    return result\n",
    "\n",
    "print(access_nested_element([[1,2,3],[4,5,6],[7,8,9]], [1,2]))  "
   ]
  },
  {
   "cell_type": "code",
   "execution_count": null,
   "id": "7695e176-770b-4484-b499-223de115960b",
   "metadata": {},
   "outputs": [],
   "source": [
    "4.3 3)"
   ]
  },
  {
   "cell_type": "code",
   "execution_count": 24,
   "id": "19c94536-61bc-47aa-a0bc-a89528e8905b",
   "metadata": {},
   "outputs": [
    {
     "name": "stdout",
     "output_type": "stream",
     "text": [
      "21\n"
     ]
    }
   ],
   "source": [
    "def sum_nested(lst):\n",
    "\n",
    "    total = 0\n",
    "    for item in lst:\n",
    "        if isinstance(item, list):\n",
    "            total += sum_nested(item)\n",
    "        else:\n",
    "            total += item\n",
    "    return total\n",
    "\n",
    "print(sum_nested([[1, 2], [3, [4, 5]], 6]))  "
   ]
  },
  {
   "cell_type": "code",
   "execution_count": null,
   "id": "c95aa9a1-343d-4e7c-8e40-edafc22a43c0",
   "metadata": {},
   "outputs": [],
   "source": [
    "4.3 4)"
   ]
  },
  {
   "cell_type": "code",
   "execution_count": 26,
   "id": "b14708c6-a175-4857-92f7-5c11597643f2",
   "metadata": {},
   "outputs": [
    {
     "name": "stdout",
     "output_type": "stream",
     "text": [
      "[[1], [3], [4, 5]]\n"
     ]
    }
   ],
   "source": [
    "def remove_element(lst, elem):\n",
    "\n",
    "    result = []\n",
    "    for item in lst:\n",
    "        if isinstance(item, list):\n",
    "            result.append(remove_element(item, elem))\n",
    "        elif item != elem:\n",
    "            result.append(item)\n",
    "    return result\n",
    "\n",
    "print(remove_element([[1, 2], [3, 2], [4, 5]], 2))  "
   ]
  },
  {
   "cell_type": "code",
   "execution_count": null,
   "id": "cdeb2fa6-7ada-42c8-be62-b3f13e5d95ee",
   "metadata": {},
   "outputs": [],
   "source": [
    "4.3 5)"
   ]
  },
  {
   "cell_type": "code",
   "execution_count": 27,
   "id": "5219693f-4934-44c6-ac74-414a788b1ba9",
   "metadata": {},
   "outputs": [
    {
     "name": "stdout",
     "output_type": "stream",
     "text": [
      "6\n"
     ]
    }
   ],
   "source": [
    "def find_max(lst):\n",
    "    max_val = float('-inf')\n",
    "    for item in lst:\n",
    "        if isinstance(item, list):\n",
    "            current = find_max(item)\n",
    "        else:\n",
    "            current = item\n",
    "        if current > max_val:\n",
    "            max_val = current\n",
    "    return max_val\n",
    "\n",
    "print(find_max([[1, 2], [3, [4, 5]], 6]))  "
   ]
  },
  {
   "cell_type": "code",
   "execution_count": null,
   "id": "fbe8aa1c-3efb-4c03-b6ed-eb6eeb365eea",
   "metadata": {},
   "outputs": [],
   "source": [
    "4.3 6)"
   ]
  },
  {
   "cell_type": "code",
   "execution_count": 28,
   "id": "39fbb77a-535e-4b3d-821d-d3ccc42fabb5",
   "metadata": {},
   "outputs": [
    {
     "name": "stdout",
     "output_type": "stream",
     "text": [
      "3\n"
     ]
    }
   ],
   "source": [
    "def count_occurrences(lst, elem):\n",
    "    \"\"\"Counts occurrences of elem in nested list\"\"\"\n",
    "    count = 0\n",
    "    for item in lst:\n",
    "        if isinstance(item, list):\n",
    "            count += count_occurrences(item, elem)\n",
    "        elif item == elem:\n",
    "            count += 1\n",
    "    return count\n",
    "\n",
    "print(count_occurrences([[1, 2], [2, 3], [2, 4]], 2))  "
   ]
  },
  {
   "cell_type": "code",
   "execution_count": null,
   "id": "30a1c67a-ad57-4be9-9156-229bf2431725",
   "metadata": {},
   "outputs": [],
   "source": [
    "4.3 7)"
   ]
  },
  {
   "cell_type": "code",
   "execution_count": 22,
   "id": "b1fec92b-e7b4-4884-96a8-05e938d6f483",
   "metadata": {},
   "outputs": [
    {
     "name": "stdout",
     "output_type": "stream",
     "text": [
      "[1, 2, 3, 4, 5, 6, 7, 8]\n"
     ]
    }
   ],
   "source": [
    "def deep_flatten(lst):\n",
    "    result = []\n",
    "    for item in lst:\n",
    "        if isinstance(item, list):\n",
    "            result.extend(deep_flatten(item))\n",
    "        else:\n",
    "            result.append(item)\n",
    "    return result\n",
    "\n",
    "print(deep_flatten([[[1,2],[3,4]],[[5,6],[7,8]]]))  "
   ]
  },
  {
   "cell_type": "code",
   "execution_count": null,
   "id": "25912933-352d-47f5-ab4a-651373d044de",
   "metadata": {},
   "outputs": [],
   "source": [
    "4.3 8)"
   ]
  },
  {
   "cell_type": "code",
   "execution_count": 29,
   "id": "be5504b7-c26b-4ce2-941b-9fdfaf041a75",
   "metadata": {},
   "outputs": [
    {
     "name": "stdout",
     "output_type": "stream",
     "text": [
      "3.5\n"
     ]
    }
   ],
   "source": [
    "def average_nested(lst):\n",
    "    def flatten_sum_count(lst):\n",
    "        total = 0\n",
    "        count = 0\n",
    "        for item in lst:\n",
    "            if isinstance(item, list):\n",
    "                t, c = flatten_sum_count(item)\n",
    "                total += t\n",
    "                count += c\n",
    "            else:\n",
    "                total += item\n",
    "                count += 1\n",
    "        return total, count\n",
    "    \n",
    "    total, count = flatten_sum_count(lst)\n",
    "    return total / count if count != 0 else 0\n",
    "\n",
    "print(average_nested([[1, 2], [3, 4], [5, 6]])) "
   ]
  },
  {
   "cell_type": "code",
   "execution_count": 31,
   "id": "50cb3644-9578-41fc-b015-a4aa8f01b401",
   "metadata": {},
   "outputs": [
    {
     "name": "stdout",
     "output_type": "stream",
     "text": [
      "Collecting numpy\n",
      "  Downloading numpy-2.2.4-cp313-cp313-macosx_14_0_arm64.whl.metadata (62 kB)\n",
      "Downloading numpy-2.2.4-cp313-cp313-macosx_14_0_arm64.whl (5.1 MB)\n",
      "\u001b[2K   \u001b[90m━━━━━━━━━━━━━━━━━━━━━━━━━━━━━━━━━━━━━━━━\u001b[0m \u001b[32m5.1/5.1 MB\u001b[0m \u001b[31m7.1 MB/s\u001b[0m eta \u001b[36m0:00:00\u001b[0ma \u001b[36m0:00:01\u001b[0m\n",
      "\u001b[?25hInstalling collected packages: numpy\n",
      "Successfully installed numpy-2.2.4\n",
      "Note: you may need to restart the kernel to use updated packages.\n"
     ]
    }
   ],
   "source": [
    "pip install numpy"
   ]
  },
  {
   "cell_type": "code",
   "execution_count": null,
   "id": "168693c2-4636-497b-b0c6-872243c93f64",
   "metadata": {},
   "outputs": [],
   "source": [
    "10 probelm one #numpy"
   ]
  },
  {
   "cell_type": "code",
   "execution_count": 12,
   "id": "8de31cae-d4e4-472a-a1fc-9df5ffba23dc",
   "metadata": {},
   "outputs": [
    {
     "name": "stdout",
     "output_type": "stream",
     "text": [
      "Empty 2x2 array:\n",
      "[[4.9e-324 9.9e-324]\n",
      " [1.5e-323 2.0e-323]]\n",
      "\n",
      "All ones 4x2 array:\n",
      "[[1. 1.]\n",
      " [1. 1.]\n",
      " [1. 1.]\n",
      " [1. 1.]]\n",
      "\n",
      "3x3 array filled with 7:\n",
      "[[7 7 7]\n",
      " [7 7 7]\n",
      " [7 7 7]]\n",
      "\n",
      "Array of zeros with same shape as reference array:\n",
      "[[0 0 0]\n",
      " [0 0 0]]\n",
      "\n",
      "Array of ones with same shape as reference array:\n",
      "[[1 1 1]\n",
      " [1 1 1]]\n",
      "\n",
      "Converted NumPy array from list:\n",
      "[1 2 3 4]\n"
     ]
    }
   ],
   "source": [
    "import numpy as np\n",
    "\n",
    "empty_array = np.empty((2, 2))\n",
    "print(\"Empty 2x2 array:\")\n",
    "print(empty_array)\n",
    "\n",
    "ones_array = np.ones((4, 2))\n",
    "print(\"\\nAll ones 4x2 array:\")\n",
    "print(ones_array)\n",
    "\n",
    "fill_value = 7\n",
    "filled_array = np.full((3, 3), fill_value)\n",
    "print(\"\\n3x3 array filled with 7:\")\n",
    "print(filled_array)\n",
    "\n",
    "reference_array = np.array([[1, 2, 3], [4, 5, 6]])\n",
    "zeros_like_array = np.zeros_like(reference_array)\n",
    "print(\"\\nArray of zeros with same shape as reference array:\")\n",
    "print(zeros_like_array)\n",
    "\n",
    "ones_like_array = np.ones_like(reference_array)\n",
    "print(\"\\nArray of ones with same shape as reference array:\")\n",
    "print(ones_like_array)\n",
    "\n",
    "new_list = [1, 2, 3, 4]\n",
    "numpy_array = np.array(new_list)\n",
    "print(\"\\nConverted NumPy array from list:\")\n",
    "print(numpy_array)"
   ]
  },
  {
   "cell_type": "code",
   "execution_count": null,
   "id": "1900c093-93f4-4b12-8ded-7163ce5f8988",
   "metadata": {},
   "outputs": [],
   "source": [
    "10 problem two"
   ]
  },
  {
   "cell_type": "code",
   "execution_count": 15,
   "id": "fa8cd022-eccb-470e-bc19-fc8f17137649",
   "metadata": {},
   "outputs": [
    {
     "name": "stdout",
     "output_type": "stream",
     "text": [
      "Array with values from 10 to 49:\n",
      "[10 11 12 13 14 15 16 17 18 19 20 21 22 23 24 25 26 27 28 29 30 31 32 33\n",
      " 34 35 36 37 38 39 40 41 42 43 44 45 46 47 48 49]\n",
      "\n",
      "3x3 matrix with values from 0 to 8:\n",
      "[[0 1 2]\n",
      " [3 4 5]\n",
      " [6 7 8]]\n",
      "\n",
      "3x3 Identity Matrix:\n",
      "[[1. 0. 0.]\n",
      " [0. 1. 0.]\n",
      " [0. 0. 1.]]\n",
      "\n",
      "Mean of random 30-element array: 0.4776672943424769\n",
      "\n",
      "Minimum value: 0.04032205451763837 Maximum value: 0.9998678546782391\n",
      "\n",
      "Zero array with 5th element set to 1:\n",
      "[0. 0. 0. 0. 1. 0. 0. 0. 0. 0.]\n",
      "\n",
      "Reversed array:\n",
      "[0 4 0 0 2 1]\n",
      "\n",
      "2D array with border of 1 and inside 0:\n",
      "[[1. 1. 1. 1. 1.]\n",
      " [1. 0. 0. 0. 1.]\n",
      " [1. 0. 0. 0. 1.]\n",
      " [1. 0. 0. 0. 1.]\n",
      " [1. 1. 1. 1. 1.]]\n",
      "\n",
      "8x8 Checkerboard pattern:\n",
      "[[0 1 0 1 0 1 0 1]\n",
      " [1 0 1 0 1 0 1 0]\n",
      " [0 1 0 1 0 1 0 1]\n",
      " [1 0 1 0 1 0 1 0]\n",
      " [0 1 0 1 0 1 0 1]\n",
      " [1 0 1 0 1 0 1 0]\n",
      " [0 1 0 1 0 1 0 1]\n",
      " [1 0 1 0 1 0 1 0]]\n"
     ]
    }
   ],
   "source": [
    "import numpy as np\n",
    "\n",
    "array_range = np.arange(10, 50)\n",
    "print(\"Array with values from 10 to 49:\")\n",
    "print(array_range)\n",
    "\n",
    "matrix_3x3 = np.arange(9).reshape(3, 3)\n",
    "print(\"\\n3x3 matrix with values from 0 to 8:\")\n",
    "print(matrix_3x3)\n",
    "\n",
    "identity_matrix = np.eye(3)\n",
    "print(\"\\n3x3 Identity Matrix:\")\n",
    "print(identity_matrix)\n",
    "\n",
    "random_array = np.random.random(30)\n",
    "mean_value = random_array.mean()\n",
    "print(\"\\nMean of random 30-element array:\", mean_value)\n",
    "\n",
    "random_matrix = np.random.random((10, 10))\n",
    "min_value = random_matrix.min()\n",
    "max_value = random_matrix.max()\n",
    "print(\"\\nMinimum value:\", min_value, \"Maximum value:\", max_value)\n",
    "\n",
    "zero_array = np.zeros(10)\n",
    "zero_array[4] = 1\n",
    "print(\"\\nZero array with 5th element set to 1:\")\n",
    "print(zero_array)\n",
    "\n",
    "arr = np.array([1, 2, 0, 0, 4, 0])\n",
    "reversed_arr = arr[::-1]\n",
    "print(\"\\nReversed array:\")\n",
    "print(reversed_arr)\n",
    "\n",
    "border_array = np.ones((5, 5))\n",
    "border_array[1:-1, 1:-1] = 0\n",
    "print(\"\\n2D array with border of 1 and inside 0:\")\n",
    "print(border_array)\n",
    "\n",
    "checkerboard = np.zeros((8, 8), dtype=int)\n",
    "checkerboard[1::2, ::2] = 1\n",
    "checkerboard[::2, 1::2] = 1\n",
    "print(\"\\n8x8 Checkerboard pattern:\")\n",
    "print(checkerboard)"
   ]
  },
  {
   "cell_type": "code",
   "execution_count": null,
   "id": "e78f7d4e-b557-4db5-8ce4-bd7f258e6885",
   "metadata": {},
   "outputs": [],
   "source": [
    "10 problem three"
   ]
  },
  {
   "cell_type": "code",
   "execution_count": 18,
   "id": "bc25fea2-a330-4e5a-abcc-c643beb81224",
   "metadata": {},
   "outputs": [
    {
     "name": "stdout",
     "output_type": "stream",
     "text": [
      "\n",
      "Addition of x and y:\n",
      "[[ 6  8]\n",
      " [10 13]]\n",
      "\n",
      "Subtraction of x and y:\n",
      "[[-4 -4]\n",
      " [-4 -3]]\n",
      "\n",
      "Multiplication of x with 3:\n",
      "[[ 3  6]\n",
      " [ 9 15]]\n",
      "\n",
      "Square of each element in x:\n",
      "[[ 1  4]\n",
      " [ 9 25]]\n",
      "\n",
      "Dot product of v and w: 219\n",
      "Dot product of x and v: [29 77]\n",
      "Dot product of x and y:\n",
      "[[19 22]\n",
      " [50 58]]\n",
      "\n",
      "Concatenation of x and y along rows:\n",
      "[[1 2]\n",
      " [3 5]\n",
      " [5 6]\n",
      " [7 8]]\n",
      "\n",
      "Concatenation of v and w along columns:\n",
      "[[ 9 10]\n",
      " [11 12]]\n",
      "\n",
      "Error concatenating x and v: all the input arrays must have same number of dimensions, but the array at index 0 has 2 dimension(s) and the array at index 1 has 1 dimension(s)\n"
     ]
    }
   ],
   "source": [
    "x = np.array([[1, 2], [3, 5]])\n",
    "y = np.array([[5, 6], [7, 8]])\n",
    "v = np.array([9, 10])\n",
    "w = np.array([11, 12])\n",
    "\n",
    "addition = x + y\n",
    "print(\"\\nAddition of x and y:\")\n",
    "print(addition)\n",
    "\n",
    "subtraction = x - y\n",
    "print(\"\\nSubtraction of x and y:\")\n",
    "print(subtraction)\n",
    "\n",
    "scaled_x = x * 3\n",
    "print(\"\\nMultiplication of x with 3:\")\n",
    "print(scaled_x)\n",
    "\n",
    "squared_x = x ** 2\n",
    "print(\"\\nSquare of each element in x:\")\n",
    "print(squared_x)\n",
    "\n",
    "dot_vw = np.dot(v, w)\n",
    "dot_xv = np.dot(x, v)\n",
    "dot_xy = np.dot(x, y)\n",
    "print(\"\\nDot product of v and w:\", dot_vw)\n",
    "print(\"Dot product of x and v:\", dot_xv)\n",
    "print(\"Dot product of x and y:\")\n",
    "print(dot_xy)\n",
    "\n",
    "concat_xy = np.concatenate((x, y), axis=0)\n",
    "concat_vw = np.vstack((v, w))\n",
    "print(\"\\nConcatenation of x and y along rows:\")\n",
    "print(concat_xy)\n",
    "print(\"\\nConcatenation of v and w along columns:\")\n",
    "print(concat_vw)\n",
    "\n",
    "try:\n",
    "    concat_xv = np.concatenate((x, v), axis=0)\n",
    "except ValueError as e:\n",
    "    print(\"\\nError concatenating x and v:\", e)"
   ]
  },
  {
   "cell_type": "code",
   "execution_count": null,
   "id": "b026e202-cfcf-4f18-b73b-6efa1bb1924b",
   "metadata": {},
   "outputs": [],
   "source": [
    "10 problem four"
   ]
  },
  {
   "cell_type": "code",
   "execution_count": 19,
   "id": "34d45397-67c0-44bd-8b02-f04a0086e964",
   "metadata": {},
   "outputs": [
    {
     "name": "stdout",
     "output_type": "stream",
     "text": [
      "\n",
      "A * A^-1:\n",
      "[[1.00000000e+00 0.00000000e+00]\n",
      " [1.77635684e-15 1.00000000e+00]]\n",
      "\n",
      "Matrix AB:\n",
      "[[23 13]\n",
      " [51 29]]\n",
      "\n",
      "Matrix BA:\n",
      "[[36 44]\n",
      " [13 16]]\n",
      "\n",
      "(AB)^T:\n",
      "[[23 51]\n",
      " [13 29]]\n",
      "\n",
      "B^T * A^T:\n",
      "[[23 51]\n",
      " [13 29]]\n",
      "\n",
      "Solution to the system of equations:\n",
      "[ 2.  1. -2.]\n"
     ]
    }
   ],
   "source": [
    "A = np.array([[3, 4], [7, 8]])\n",
    "B = np.array([[5, 3], [2, 1]])\n",
    "\n",
    "A_inv = np.linalg.inv(A)\n",
    "identity_check = np.dot(A, A_inv)\n",
    "print(\"\\nA * A^-1:\")\n",
    "print(identity_check)\n",
    "\n",
    "AB = np.dot(A, B)\n",
    "BA = np.dot(B, A)\n",
    "print(\"\\nMatrix AB:\")\n",
    "print(AB)\n",
    "print(\"\\nMatrix BA:\")\n",
    "print(BA)\n",
    "\n",
    "AB_T = AB.T\n",
    "BT_AT = np.dot(B.T, A.T)\n",
    "print(\"\\n(AB)^T:\")\n",
    "print(AB_T)\n",
    "print(\"\\nB^T * A^T:\")\n",
    "print(BT_AT)\n",
    "\n",
    "coeff_matrix = np.array([[2, -3, 1], [1, -1, 2], [3, 1, -1]])\n",
    "constants = np.array([-1, -3, 9])\n",
    "\n",
    "solution = np.linalg.inv(coeff_matrix).dot(constants)\n",
    "print(\"\\nSolution to the system of equations:\")\n",
    "print(solution)"
   ]
  },
  {
   "cell_type": "code",
   "execution_count": null,
   "id": "fa998eee-3e4f-442f-962b-7ca3d0de98b2",
   "metadata": {},
   "outputs": [],
   "source": []
  }
 ],
 "metadata": {
  "kernelspec": {
   "display_name": "Python 3 (ipykernel)",
   "language": "python",
   "name": "python3"
  },
  "language_info": {
   "codemirror_mode": {
    "name": "ipython",
    "version": 3
   },
   "file_extension": ".py",
   "mimetype": "text/x-python",
   "name": "python",
   "nbconvert_exporter": "python",
   "pygments_lexer": "ipython3",
   "version": "3.13.2"
  }
 },
 "nbformat": 4,
 "nbformat_minor": 5
}
